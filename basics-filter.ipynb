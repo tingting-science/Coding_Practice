{
 "cells": [
  {
   "cell_type": "markdown",
   "metadata": {},
   "source": [
    "Selecting a subset of elements (that meets a criteria)\n",
    "    - Common Structure\n",
    "\n",
    "```python\n",
    "def ends_ing(word): # a boolean functinon\n",
    "    return word.endswith('ing')\n",
    "\n",
    "def select_ing(elements):\n",
    "#   selected = []\n",
    "#   for element in elements:\n",
    "      if ends_ing(element):  # a boolean functinon\n",
    "#           selected.append(element)\n",
    "#   return selected\n",
    "\n",
    "words = ['camping', 'biking', 'sailed', 'swam']\n",
    "select_ing(words)\n",
    "```\n",
    "    - alternative \n",
    "```python\n",
    "list(filter(function, iterable))\n",
    "# filter takes in 2 argu. \n",
    "# function specifies the criteria, return True or False\n",
    "# iterable specifices list of elements to filter\n",
    "# Each element in the list is passed to the function one by one and if the function returns true the element is selected and put into a new array, which will be returned in the Filter object at the end.\n",
    "```\n",
    "    - filter + None \n",
    "```python\n",
    "list(filter(None, iterable))\n",
    "# return only Truthy elemnents, filter out Falsy elements\n",
    "```"
   ]
  },
  {
   "cell_type": "code",
   "execution_count": 1,
   "metadata": {},
   "outputs": [
    {
     "data": {
      "text/plain": [
       "['0', 'python', 2, True, 'flatiron', 38.9]"
      ]
     },
     "execution_count": 1,
     "metadata": {},
     "output_type": "execute_result"
    }
   ],
   "source": [
    "random_list = [0,'0','python', 2, \n",
    "               True, 'flatiron', False, 38.9]\n",
    "list(filter(None, random_list))"
   ]
  },
  {
   "cell_type": "code",
   "execution_count": null,
   "metadata": {},
   "outputs": [],
   "source": []
  }
 ],
 "metadata": {
  "kernelspec": {
   "display_name": "Python 3",
   "language": "python",
   "name": "python3"
  },
  "language_info": {
   "codemirror_mode": {
    "name": "ipython",
    "version": 3
   },
   "file_extension": ".py",
   "mimetype": "text/x-python",
   "name": "python",
   "nbconvert_exporter": "python",
   "pygments_lexer": "ipython3",
   "version": "3.5.4"
  }
 },
 "nbformat": 4,
 "nbformat_minor": 2
}
