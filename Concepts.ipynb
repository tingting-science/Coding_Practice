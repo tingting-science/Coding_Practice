{
 "cells": [
  {
   "cell_type": "markdown",
   "metadata": {},
   "source": [
    "## Python Basics\n",
    "\n",
    "- Data types: working with text and data\n",
    "- Variables: storing data\n",
    "- Lists: working with data in an ordered collection\n",
    "- Dictionaries: representing data as a collection of attributes\n",
    "- Loops and iteration: repeating a sequence of instructions\n",
    "- Data visualization: using plots to display data\n",
    "- Functions: defining and running specific procedures in code"
   ]
  },
  {
   "cell_type": "markdown",
   "metadata": {},
   "source": [
    "## pip \n",
    "- package manage system (download & install python libraries)\n",
    "\n",
    "- run pip in jupyter\n",
    "```python\n",
    "! pip install library_name == version  # == version can be ommitted \n",
    "```"
   ]
  },
  {
   "cell_type": "markdown",
   "metadata": {},
   "source": [
    "## ML Process\n",
    "- Gather and clean the data\n",
    "- Study the data\n",
    "- Select a model\n",
    "- Train: Optimize the model for some other criteria (eg. how well the model predicts our known labeled data)\n",
    "- Use the model predict on new data"
   ]
  },
  {
   "cell_type": "code",
   "execution_count": null,
   "metadata": {},
   "outputs": [],
   "source": []
  }
 ],
 "metadata": {
  "kernelspec": {
   "display_name": "Python 3",
   "language": "python",
   "name": "python3"
  },
  "language_info": {
   "codemirror_mode": {
    "name": "ipython",
    "version": 3
   },
   "file_extension": ".py",
   "mimetype": "text/x-python",
   "name": "python",
   "nbconvert_exporter": "python",
   "pygments_lexer": "ipython3",
   "version": "3.5.4"
  }
 },
 "nbformat": 4,
 "nbformat_minor": 2
}
