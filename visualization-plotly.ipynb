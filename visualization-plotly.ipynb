{
 "cells": [
  {
   "cell_type": "markdown",
   "metadata": {},
   "source": [
    "Graphing \n",
    "- bar plot\n",
    "```python\n",
    "import plotly\n",
    "plotly.offline.init_notebook_mode(connected=True)\n",
    "trace1 = dict(x=[], # list of x values\n",
    "            y=[], # list of y values\n",
    "            text=[],\n",
    "            type=\"bar\", # e.g., text = a list of names \n",
    "            name='name of y') #e.g., name ='area' if y is area value \n",
    "plotly.offline.iplot([trace1]) #[list of traces]\n",
    "```\n",
    "- scatter plot\n",
    "    - cartesian coordinate system (x-axis, y-axis, 2D data)\n",
    "```python\n",
    "import plotly\n",
    "plotly.offline.init_notebook_mode(connected=True)\n",
    "trace1 = dict(x=[], # list of x values\n",
    "            y=[], # list of y values\n",
    "            mode=\"markers\",\n",
    "            text=[]) # e.g., text = a list of names \n",
    "plotly.offline.iplot([trace1])\n",
    "or plotly.offline.iplot(dict(data=[trace0], layout={'xaxis': {'dtick': 1}, 'yaxis': {'dtick': 1}})) # set plot layout\n",
    "```"
   ]
  },
  {
   "cell_type": "code",
   "execution_count": 4,
   "metadata": {},
   "outputs": [],
   "source": [
    "# installed plotly 05.06.19"
   ]
  },
  {
   "cell_type": "code",
   "execution_count": 3,
   "metadata": {
    "scrolled": true
   },
   "outputs": [
    {
     "name": "stdout",
     "output_type": "stream",
     "text": [
      "Collecting plotly==3.3.0\n",
      "\u001b[?25l  Downloading https://files.pythonhosted.org/packages/d6/3b/abec247e24e2b8f29793811788fe0607062f40eefe3104823ad57f06ecf1/plotly-3.3.0-py2.py3-none-any.whl (37.3MB)\n",
      "\u001b[K    100% |████████████████████████████████| 37.3MB 1.0MB/s eta 0:00:01    32% |██████████▎                     | 12.0MB 10.1MB/s eta 0:00:03    64% |████████████████████▊           | 24.1MB 3.9MB/s eta 0:00:0482% |██████████████████████████▍     | 30.7MB 9.2MB/s eta 0:00:01\n",
      "\u001b[?25hRequirement already satisfied: six in /Users/tingtingli/anaconda3/lib/python3.5/site-packages (from plotly==3.3.0) (1.11.0)\n",
      "Requirement already satisfied: pytz in /Users/tingtingli/anaconda3/lib/python3.5/site-packages (from plotly==3.3.0) (2017.3)\n",
      "Requirement already satisfied: nbformat>=4.2 in /Users/tingtingli/anaconda3/lib/python3.5/site-packages (from plotly==3.3.0) (4.4.0)\n",
      "Requirement already satisfied: decorator>=4.0.6 in /Users/tingtingli/anaconda3/lib/python3.5/site-packages (from plotly==3.3.0) (4.1.2)\n",
      "Collecting retrying>=1.3.3 (from plotly==3.3.0)\n",
      "  Downloading https://files.pythonhosted.org/packages/44/ef/beae4b4ef80902f22e3af073397f079c96969c69b2c7d52a57ea9ae61c9d/retrying-1.3.3.tar.gz\n",
      "Requirement already satisfied: requests in /Users/tingtingli/anaconda3/lib/python3.5/site-packages (from plotly==3.3.0) (2.18.4)\n",
      "Requirement already satisfied: ipython_genutils in /Users/tingtingli/anaconda3/lib/python3.5/site-packages (from nbformat>=4.2->plotly==3.3.0) (0.2.0)\n",
      "Requirement already satisfied: traitlets>=4.1 in /Users/tingtingli/anaconda3/lib/python3.5/site-packages (from nbformat>=4.2->plotly==3.3.0) (4.3.2)\n",
      "Requirement already satisfied: jsonschema!=2.5.0,>=2.4 in /Users/tingtingli/anaconda3/lib/python3.5/site-packages (from nbformat>=4.2->plotly==3.3.0) (2.6.0)\n",
      "Requirement already satisfied: jupyter_core in /Users/tingtingli/anaconda3/lib/python3.5/site-packages (from nbformat>=4.2->plotly==3.3.0) (4.4.0)\n",
      "Requirement already satisfied: chardet<3.1.0,>=3.0.2 in /Users/tingtingli/anaconda3/lib/python3.5/site-packages (from requests->plotly==3.3.0) (3.0.4)\n",
      "Requirement already satisfied: idna<2.7,>=2.5 in /Users/tingtingli/anaconda3/lib/python3.5/site-packages (from requests->plotly==3.3.0) (2.6)\n",
      "Requirement already satisfied: urllib3<1.23,>=1.21.1 in /Users/tingtingli/anaconda3/lib/python3.5/site-packages (from requests->plotly==3.3.0) (1.22)\n",
      "Requirement already satisfied: certifi>=2017.4.17 in /Users/tingtingli/anaconda3/lib/python3.5/site-packages (from requests->plotly==3.3.0) (2018.1.18)\n",
      "Building wheels for collected packages: retrying\n",
      "  Building wheel for retrying (setup.py) ... \u001b[?25ldone\n",
      "\u001b[?25h  Stored in directory: /Users/tingtingli/Library/Caches/pip/wheels/d7/a9/33/acc7b709e2a35caa7d4cae442f6fe6fbf2c43f80823d46460c\n",
      "Successfully built retrying\n",
      "Installing collected packages: retrying, plotly\n",
      "Successfully installed plotly-3.3.0 retrying-1.3.3\n",
      "\u001b[33mYou are using pip version 19.0.3, however version 19.1 is available.\n",
      "You should consider upgrading via the 'pip install --upgrade pip' command.\u001b[0m\n"
     ]
    }
   ],
   "source": [
    "# ! pip install plotly==3.3.0"
   ]
  },
  {
   "cell_type": "code",
   "execution_count": 5,
   "metadata": {},
   "outputs": [],
   "source": [
    "import plotly"
   ]
  },
  {
   "cell_type": "code",
   "execution_count": 6,
   "metadata": {},
   "outputs": [
    {
     "data": {
      "text/html": [
       "<script>requirejs.config({paths: { 'plotly': ['https://cdn.plot.ly/plotly-latest.min']},});if(!window.Plotly) {{require(['plotly'],function(plotly) {window.Plotly=plotly;});}}</script>"
      ],
      "text/vnd.plotly.v1+html": [
       "<script>requirejs.config({paths: { 'plotly': ['https://cdn.plot.ly/plotly-latest.min']},});if(!window.Plotly) {{require(['plotly'],function(plotly) {window.Plotly=plotly;});}}</script>"
      ]
     },
     "metadata": {},
     "output_type": "display_data"
    }
   ],
   "source": [
    "plotly.offline.init_notebook_mode(connected=True)\n",
    "# use offline mode to avoid initial registration"
   ]
  },
  {
   "cell_type": "code",
   "execution_count": 7,
   "metadata": {
    "scrolled": true
   },
   "outputs": [
    {
     "data": {
      "application/vnd.plotly.v1+json": {
       "data": [
        {
         "type": "bar",
         "uid": "12b4b02e-700e-11e9-a421-186590dfe88f",
         "x": [
          "jack",
          "jill",
          "sandy",
          "blaise"
         ],
         "y": [
          8,
          11,
          8,
          13,
          6,
          4
         ]
        },
        {
         "type": "bar",
         "uid": "12b5daee-700e-11e9-8a1f-186590dfe88f",
         "x": [
          "jack",
          "jill",
          "sandy",
          "gob"
         ],
         "y": [
          4,
          12,
          3,
          14,
          8,
          1
         ]
        }
       ],
       "layout": {}
      },
      "text/html": [
       "<div id=\"89e763c0-b287-4dba-bce6-9dec793bf0ca\" style=\"height: 525px; width: 100%;\" class=\"plotly-graph-div\"></div><script type=\"text/javascript\">require([\"plotly\"], function(Plotly) { window.PLOTLYENV=window.PLOTLYENV || {};window.PLOTLYENV.BASE_URL=\"https://plot.ly\";Plotly.newPlot(\"89e763c0-b287-4dba-bce6-9dec793bf0ca\", [{\"type\": \"bar\", \"y\": [8, 11, 8, 13, 6, 4], \"x\": [\"jack\", \"jill\", \"sandy\", \"blaise\"], \"uid\": \"12d828c2-700e-11e9-b743-186590dfe88f\"}, {\"type\": \"bar\", \"y\": [4, 12, 3, 14, 8, 1], \"x\": [\"jack\", \"jill\", \"sandy\", \"gob\"], \"uid\": \"12d82ae2-700e-11e9-943a-186590dfe88f\"}], {}, {\"showLink\": true, \"linkText\": \"Export to plot.ly\"})});</script>"
      ],
      "text/vnd.plotly.v1+html": [
       "<div id=\"89e763c0-b287-4dba-bce6-9dec793bf0ca\" style=\"height: 525px; width: 100%;\" class=\"plotly-graph-div\"></div><script type=\"text/javascript\">require([\"plotly\"], function(Plotly) { window.PLOTLYENV=window.PLOTLYENV || {};window.PLOTLYENV.BASE_URL=\"https://plot.ly\";Plotly.newPlot(\"89e763c0-b287-4dba-bce6-9dec793bf0ca\", [{\"type\": \"bar\", \"y\": [8, 11, 8, 13, 6, 4], \"x\": [\"jack\", \"jill\", \"sandy\", \"blaise\"], \"uid\": \"12d828c2-700e-11e9-b743-186590dfe88f\"}, {\"type\": \"bar\", \"y\": [4, 12, 3, 14, 8, 1], \"x\": [\"jack\", \"jill\", \"sandy\", \"gob\"], \"uid\": \"12d82ae2-700e-11e9-943a-186590dfe88f\"}], {}, {\"showLink\": true, \"linkText\": \"Export to plot.ly\"})});</script>"
      ]
     },
     "metadata": {},
     "output_type": "display_data"
    }
   ],
   "source": [
    "trace0 = {'type': 'bar', 'x': ['jack', 'jill', 'sandy', 'blaise'], 'y': [8, 11, 8, 13, 6, 4]}\n",
    "trace1 = {'type': 'bar', 'x': ['jack', 'jill', 'sandy', 'gob'], 'y': [4, 12, 3, 14, 8, 1]}\n",
    "\n",
    "\n",
    "plotly.offline.iplot([trace0, trace1])"
   ]
  },
  {
   "cell_type": "code",
   "execution_count": 8,
   "metadata": {},
   "outputs": [],
   "source": [
    "import pandas as pd"
   ]
  },
  {
   "cell_type": "markdown",
   "metadata": {},
   "source": [
    "```python\n",
    "!pip install xlrd  #may need to read older excel files .xls\n",
    "```"
   ]
  },
  {
   "cell_type": "code",
   "execution_count": 10,
   "metadata": {},
   "outputs": [],
   "source": [
    "file = 'cities.xlsx'\n",
    "travel_df = pd.read_excel(file)"
   ]
  },
  {
   "cell_type": "code",
   "execution_count": 12,
   "metadata": {},
   "outputs": [
    {
     "data": {
      "text/plain": [
       "[{'Area': 59, 'City': 'Solta', 'Country': 'Croatia', 'Population': 1700},\n",
       " {'Area': 68, 'City': 'Greenville', 'Country': 'USA', 'Population': 84554},\n",
       " {'Area': 4758,\n",
       "  'City': 'Buenos Aires',\n",
       "  'Country': 'Argentina',\n",
       "  'Population': 13591863},\n",
       " {'Area': 3750,\n",
       "  'City': 'Los Cabos',\n",
       "  'Country': 'Mexico',\n",
       "  'Population': 287651},\n",
       " {'Area': 33,\n",
       "  'City': 'Walla Walla Valley',\n",
       "  'Country': 'USA',\n",
       "  'Population': 32237},\n",
       " {'Area': 200, 'City': 'Marakesh', 'Country': 'Morocco', 'Population': 928850},\n",
       " {'Area': 491,\n",
       "  'City': 'Albuquerque',\n",
       "  'Country': 'New Mexico',\n",
       "  'Population': 559277},\n",
       " {'Area': 8300,\n",
       "  'City': 'Archipelago Sea',\n",
       "  'Country': 'Finland',\n",
       "  'Population': 60000},\n",
       " {'Area': 672,\n",
       "  'City': 'Iguazu Falls',\n",
       "  'Country': 'Argentina',\n",
       "  'Population': 0},\n",
       " {'Area': 27, 'City': 'Salina Island', 'Country': 'Italy', 'Population': 4000},\n",
       " {'Area': 2731571, 'City': 'Toronto', 'Country': 'Canada', 'Population': 630},\n",
       " {'Area': 3194,\n",
       "  'City': 'Pyeongchang',\n",
       "  'Country': 'South Korea',\n",
       "  'Population': 2581000}]"
      ]
     },
     "execution_count": 12,
     "metadata": {},
     "output_type": "execute_result"
    }
   ],
   "source": [
    "cities = travel_df.to_dict('records')\n",
    "cities"
   ]
  },
  {
   "cell_type": "code",
   "execution_count": 13,
   "metadata": {},
   "outputs": [
    {
     "data": {
      "text/plain": [
       "[0, 1, 2, 3, 4, 5, 6, 7, 8, 9, 10, 11]"
      ]
     },
     "execution_count": 13,
     "metadata": {},
     "output_type": "execute_result"
    }
   ],
   "source": [
    "city_indices = list(range(0,len(cities)))\n",
    "city_indices # [0, 1, 2, 3, 4, 5, 6, 7, 8, 9, 10, 11]"
   ]
  },
  {
   "cell_type": "code",
   "execution_count": 14,
   "metadata": {},
   "outputs": [
    {
     "data": {
      "text/plain": [
       "['Solta',\n",
       " 'Greenville',\n",
       " 'Buenos Aires',\n",
       " 'Los Cabos',\n",
       " 'Walla Walla Valley',\n",
       " 'Marakesh',\n",
       " 'Albuquerque',\n",
       " 'Archipelago Sea',\n",
       " 'Iguazu Falls',\n",
       " 'Salina Island',\n",
       " 'Toronto',\n",
       " 'Pyeongchang']"
      ]
     },
     "execution_count": 14,
     "metadata": {},
     "output_type": "execute_result"
    }
   ],
   "source": [
    "city_names = [city['City'] for city in cities]\n",
    "city_names"
   ]
  },
  {
   "cell_type": "code",
   "execution_count": 17,
   "metadata": {},
   "outputs": [],
   "source": [
    "names_and_ranks = [] \n",
    "# write a for loop that adds the properly formatted string to the names_and_ranks list\n",
    "for idx in city_indices:\n",
    "    names_and_ranks.append(str(idx+1)+'. '+city_names[idx])"
   ]
  },
  {
   "cell_type": "code",
   "execution_count": 16,
   "metadata": {},
   "outputs": [
    {
     "data": {
      "text/plain": [
       "[1700,\n",
       " 84554,\n",
       " 13591863,\n",
       " 287651,\n",
       " 32237,\n",
       " 928850,\n",
       " 559277,\n",
       " 60000,\n",
       " 0,\n",
       " 4000,\n",
       " 630,\n",
       " 2581000]"
      ]
     },
     "execution_count": 16,
     "metadata": {},
     "output_type": "execute_result"
    }
   ],
   "source": [
    "city_populations = [city['Population']\n",
    "                    for city in cities]\n",
    "city_populations"
   ]
  },
  {
   "cell_type": "code",
   "execution_count": 20,
   "metadata": {},
   "outputs": [],
   "source": [
    "city_areas = [city['Area'] for city in cities]"
   ]
  },
  {
   "cell_type": "code",
   "execution_count": 18,
   "metadata": {},
   "outputs": [],
   "source": [
    "trace_populations = {'x': names_and_ranks, \n",
    "                     'y': city_populations, \n",
    "                     'text': names_and_ranks, \n",
    "                     'type': 'bar', \n",
    "                     'name': 'populations'}"
   ]
  },
  {
   "cell_type": "code",
   "execution_count": 21,
   "metadata": {},
   "outputs": [],
   "source": [
    "trace_areas = {'x': names_and_ranks, \n",
    "               'y': city_areas, \n",
    "               'text': names_and_ranks, \n",
    "               'type': 'bar', \n",
    "               'name': 'areas'}"
   ]
  },
  {
   "cell_type": "code",
   "execution_count": 22,
   "metadata": {},
   "outputs": [
    {
     "data": {
      "application/vnd.plotly.v1+json": {
       "data": [
        {
         "name": "populations",
         "text": [
          "1. Solta",
          "2. Greenville",
          "3. Buenos Aires",
          "4. Los Cabos",
          "5. Walla Walla Valley",
          "6. Marakesh",
          "7. Albuquerque",
          "8. Archipelago Sea",
          "9. Iguazu Falls",
          "10. Salina Island",
          "11. Toronto",
          "12. Pyeongchang"
         ],
         "type": "bar",
         "uid": "4d707ce4-701c-11e9-9333-186590dfe88f",
         "x": [
          "1. Solta",
          "2. Greenville",
          "3. Buenos Aires",
          "4. Los Cabos",
          "5. Walla Walla Valley",
          "6. Marakesh",
          "7. Albuquerque",
          "8. Archipelago Sea",
          "9. Iguazu Falls",
          "10. Salina Island",
          "11. Toronto",
          "12. Pyeongchang"
         ],
         "y": [
          1700,
          84554,
          13591863,
          287651,
          32237,
          928850,
          559277,
          60000,
          0,
          4000,
          630,
          2581000
         ]
        },
        {
         "name": "areas",
         "text": [
          "1. Solta",
          "2. Greenville",
          "3. Buenos Aires",
          "4. Los Cabos",
          "5. Walla Walla Valley",
          "6. Marakesh",
          "7. Albuquerque",
          "8. Archipelago Sea",
          "9. Iguazu Falls",
          "10. Salina Island",
          "11. Toronto",
          "12. Pyeongchang"
         ],
         "type": "bar",
         "uid": "4d707f1e-701c-11e9-b7d0-186590dfe88f",
         "x": [
          "1. Solta",
          "2. Greenville",
          "3. Buenos Aires",
          "4. Los Cabos",
          "5. Walla Walla Valley",
          "6. Marakesh",
          "7. Albuquerque",
          "8. Archipelago Sea",
          "9. Iguazu Falls",
          "10. Salina Island",
          "11. Toronto",
          "12. Pyeongchang"
         ],
         "y": [
          59,
          68,
          4758,
          3750,
          33,
          200,
          491,
          8300,
          672,
          27,
          2731571,
          3194
         ]
        }
       ],
       "layout": {}
      },
      "text/html": [
       "<div id=\"8d98eb56-6f60-4a70-801a-cf57815013a3\" style=\"height: 525px; width: 100%;\" class=\"plotly-graph-div\"></div><script type=\"text/javascript\">require([\"plotly\"], function(Plotly) { window.PLOTLYENV=window.PLOTLYENV || {};window.PLOTLYENV.BASE_URL=\"https://plot.ly\";Plotly.newPlot(\"8d98eb56-6f60-4a70-801a-cf57815013a3\", [{\"type\": \"bar\", \"name\": \"populations\", \"y\": [1700, 84554, 13591863, 287651, 32237, 928850, 559277, 60000, 0, 4000, 630, 2581000], \"uid\": \"4d767c36-701c-11e9-bb9a-186590dfe88f\", \"text\": [\"1. Solta\", \"2. Greenville\", \"3. Buenos Aires\", \"4. Los Cabos\", \"5. Walla Walla Valley\", \"6. Marakesh\", \"7. Albuquerque\", \"8. Archipelago Sea\", \"9. Iguazu Falls\", \"10. Salina Island\", \"11. Toronto\", \"12. Pyeongchang\"], \"x\": [\"1. Solta\", \"2. Greenville\", \"3. Buenos Aires\", \"4. Los Cabos\", \"5. Walla Walla Valley\", \"6. Marakesh\", \"7. Albuquerque\", \"8. Archipelago Sea\", \"9. Iguazu Falls\", \"10. Salina Island\", \"11. Toronto\", \"12. Pyeongchang\"]}, {\"type\": \"bar\", \"name\": \"areas\", \"y\": [59, 68, 4758, 3750, 33, 200, 491, 8300, 672, 27, 2731571, 3194], \"uid\": \"4d767e8a-701c-11e9-aaa2-186590dfe88f\", \"text\": [\"1. Solta\", \"2. Greenville\", \"3. Buenos Aires\", \"4. Los Cabos\", \"5. Walla Walla Valley\", \"6. Marakesh\", \"7. Albuquerque\", \"8. Archipelago Sea\", \"9. Iguazu Falls\", \"10. Salina Island\", \"11. Toronto\", \"12. Pyeongchang\"], \"x\": [\"1. Solta\", \"2. Greenville\", \"3. Buenos Aires\", \"4. Los Cabos\", \"5. Walla Walla Valley\", \"6. Marakesh\", \"7. Albuquerque\", \"8. Archipelago Sea\", \"9. Iguazu Falls\", \"10. Salina Island\", \"11. Toronto\", \"12. Pyeongchang\"]}], {}, {\"showLink\": true, \"linkText\": \"Export to plot.ly\"})});</script>"
      ],
      "text/vnd.plotly.v1+html": [
       "<div id=\"8d98eb56-6f60-4a70-801a-cf57815013a3\" style=\"height: 525px; width: 100%;\" class=\"plotly-graph-div\"></div><script type=\"text/javascript\">require([\"plotly\"], function(Plotly) { window.PLOTLYENV=window.PLOTLYENV || {};window.PLOTLYENV.BASE_URL=\"https://plot.ly\";Plotly.newPlot(\"8d98eb56-6f60-4a70-801a-cf57815013a3\", [{\"type\": \"bar\", \"name\": \"populations\", \"y\": [1700, 84554, 13591863, 287651, 32237, 928850, 559277, 60000, 0, 4000, 630, 2581000], \"uid\": \"4d767c36-701c-11e9-bb9a-186590dfe88f\", \"text\": [\"1. Solta\", \"2. Greenville\", \"3. Buenos Aires\", \"4. Los Cabos\", \"5. Walla Walla Valley\", \"6. Marakesh\", \"7. Albuquerque\", \"8. Archipelago Sea\", \"9. Iguazu Falls\", \"10. Salina Island\", \"11. Toronto\", \"12. Pyeongchang\"], \"x\": [\"1. Solta\", \"2. Greenville\", \"3. Buenos Aires\", \"4. Los Cabos\", \"5. Walla Walla Valley\", \"6. Marakesh\", \"7. Albuquerque\", \"8. Archipelago Sea\", \"9. Iguazu Falls\", \"10. Salina Island\", \"11. Toronto\", \"12. Pyeongchang\"]}, {\"type\": \"bar\", \"name\": \"areas\", \"y\": [59, 68, 4758, 3750, 33, 200, 491, 8300, 672, 27, 2731571, 3194], \"uid\": \"4d767e8a-701c-11e9-aaa2-186590dfe88f\", \"text\": [\"1. Solta\", \"2. Greenville\", \"3. Buenos Aires\", \"4. Los Cabos\", \"5. Walla Walla Valley\", \"6. Marakesh\", \"7. Albuquerque\", \"8. Archipelago Sea\", \"9. Iguazu Falls\", \"10. Salina Island\", \"11. Toronto\", \"12. Pyeongchang\"], \"x\": [\"1. Solta\", \"2. Greenville\", \"3. Buenos Aires\", \"4. Los Cabos\", \"5. Walla Walla Valley\", \"6. Marakesh\", \"7. Albuquerque\", \"8. Archipelago Sea\", \"9. Iguazu Falls\", \"10. Salina Island\", \"11. Toronto\", \"12. Pyeongchang\"]}], {}, {\"showLink\": true, \"linkText\": \"Export to plot.ly\"})});</script>"
      ]
     },
     "metadata": {},
     "output_type": "display_data"
    }
   ],
   "source": [
    "plotly.offline.iplot([trace_populations, trace_areas])"
   ]
  },
  {
   "cell_type": "code",
   "execution_count": null,
   "metadata": {},
   "outputs": [],
   "source": []
  }
 ],
 "metadata": {
  "kernelspec": {
   "display_name": "Python 3",
   "language": "python",
   "name": "python3"
  },
  "language_info": {
   "codemirror_mode": {
    "name": "ipython",
    "version": 3
   },
   "file_extension": ".py",
   "mimetype": "text/x-python",
   "name": "python",
   "nbconvert_exporter": "python",
   "pygments_lexer": "ipython3",
   "version": "3.5.4"
  }
 },
 "nbformat": 4,
 "nbformat_minor": 2
}
