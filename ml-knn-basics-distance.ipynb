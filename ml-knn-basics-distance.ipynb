{
 "cells": [
  {
   "cell_type": "markdown",
   "metadata": {},
   "source": [
    "### Why Useful\n",
    "- `predict` other attributes about people using their `proximity` data.\n",
    "    - `example`, those who live in a particular neighborhood may be more likely to be a certain age or have similar interests. Using proximity, we might even be able to determine whether their likelihood to purchase a product approximates that of their neighbors.\n",
    "    \n",
    "\n",
    "### HyperParameters - K | Model performance (error metric, bias, variance)\n",
    "\n",
    "Senario: cupcake purchases prediction dramatically change with `k` value, choose best k with most accurate prediction on new data. \n",
    "\n",
    "\n",
    "#### Train, Test\n",
    "- Train: for tweaking algorithm, `minize error metric` \n",
    "- Test: for `generalization` purpose, test model performance on `unseen` data \n",
    "\n",
    "#### High Bias , Variance\n",
    "`Both poor prediction accuracy/large error on unseen data(test data)`\n",
    "\n",
    "##### Underfitting\n",
    "- model fails to catch relevant signals/pattern of data\n",
    "- e.g., `k = large number, with large training error`\n",
    "\n",
    "##### Overfitting\n",
    "- `overgeneralize` from data  \n",
    "- e.g., `k = 1, with minimized training error`\n",
    "\n",
    "#### Error Metric\n",
    "- simple self-defined, e.g.: `error =  y-y_pred`\n",
    "- Goal: `choose k with minimized(aggregate(y-y_pred) of all training data)`"
   ]
  },
  {
   "cell_type": "markdown",
   "metadata": {},
   "source": [
    "### Assumptions\n",
    "\n",
    "`Euclidean distance`\n",
    "- shortest distance btw 2 points\n",
    "    - straight line: `hypothenus`\n",
    "    - `Pythagorean theorem` \n",
    "- x, y values: same scale"
   ]
  },
  {
   "cell_type": "markdown",
   "metadata": {},
   "source": [
    "### Code Structure\n",
    "\n",
    "To write a `nearest_neighbors` function, we break this into steps:\n",
    "\n",
    "1. Write a function to calculate the distance of one neighbor from another\n",
    "2. Write a function that returns the distance between one neighbor and all others (using `map`)\n",
    "3. Return a selected number of nearest neighbors\n",
    "\n",
    "`check intermediate outputs` from time to time, ensure each function is correct \n",
    "\n",
    "### Flow of Data\n",
    "watch `flow of data` by seeing:\n",
    "1. inputs of functions, `keep in mind what is original data look like`\n",
    "2. outputs of functions, `have in mind what the output should look like`\n",
    "3. relationship btw inputs & output of each nested function"
   ]
  },
  {
   "cell_type": "code",
   "execution_count": 13,
   "metadata": {},
   "outputs": [],
   "source": [
    "neighbors = [{'name': 'Bob', 'x': 4, 'y': 8}, {'name': 'Suzie', 'x': 1, 'y': 11}, \n",
    "             {'name': 'Fred', 'x': 5, 'y': 8}, {'name': 'Edgar', 'x': 6, 'y': 13},\n",
    "             {'name': 'Steven', 'x': 3, 'y': 6}, {'name': 'Natalie', 'x': 5, 'y': 4}]"
   ]
  },
  {
   "cell_type": "code",
   "execution_count": 14,
   "metadata": {},
   "outputs": [],
   "source": [
    "bob = neighbors[0] # selected_individual\n",
    "suzie = neighbors[1] # neighbor to test"
   ]
  },
  {
   "cell_type": "markdown",
   "metadata": {},
   "source": [
    "`import math`, `math.sqrt()`"
   ]
  },
  {
   "cell_type": "code",
   "execution_count": 15,
   "metadata": {},
   "outputs": [],
   "source": [
    "import math\n",
    "def distance(selected_individual, neighbor):\n",
    "   distance_squared = (neighbor['x'] - selected_individual['x'])**2 + (neighbor['y'] - selected_individual['y'])**2\n",
    "   return math.sqrt(distance_squared)"
   ]
  },
  {
   "cell_type": "markdown",
   "metadata": {},
   "source": [
    "`new_dict = dict.copy()`"
   ]
  },
  {
   "cell_type": "code",
   "execution_count": 16,
   "metadata": {},
   "outputs": [],
   "source": [
    "def distance_between_neighbors(selected_individual, neighbor):\n",
    "    neighbor_with_distance = neighbor.copy()\n",
    "    neighbor_with_distance['distance'] = distance(selected_individual, neighbor)\n",
    "    return neighbor_with_distance"
   ]
  },
  {
   "cell_type": "code",
   "execution_count": 17,
   "metadata": {},
   "outputs": [
    {
     "data": {
      "text/plain": [
       "{'distance': 4.242640687119285, 'name': 'Suzie', 'x': 1, 'y': 11}"
      ]
     },
     "execution_count": 17,
     "metadata": {},
     "output_type": "execute_result"
    }
   ],
   "source": [
    "# Check \n",
    "distance_between_neighbors(bob, suzie)"
   ]
  },
  {
   "cell_type": "markdown",
   "metadata": {},
   "source": [
    "`filter()`, `map()`"
   ]
  },
  {
   "cell_type": "code",
   "execution_count": 18,
   "metadata": {},
   "outputs": [],
   "source": [
    "def distance_all(selected_individual, neighbors):\n",
    "    remaining_neighbors = filter(lambda neighbor: neighbor != selected_individual, neighbors)\n",
    "    return list(map(lambda neighbor: distance_between_neighbors(selected_individual, neighbor), remaining_neighbors))"
   ]
  },
  {
   "cell_type": "markdown",
   "metadata": {},
   "source": [
    "`or len()`, `sorted()`"
   ]
  },
  {
   "cell_type": "code",
   "execution_count": 19,
   "metadata": {},
   "outputs": [],
   "source": [
    "def nearest_neighbors(selected_individual, neighbors, number = None):\n",
    "    number = number or len(neighbors)\n",
    "    neighbor_distances = distance_all(selected_individual, neighbors)\n",
    "    sorted_neighbors = sorted(neighbor_distances, key=lambda neighbor: neighbor['distance'])\n",
    "    return sorted_neighbors[:number]"
   ]
  },
  {
   "cell_type": "code",
   "execution_count": 20,
   "metadata": {
    "scrolled": true
   },
   "outputs": [
    {
     "data": {
      "text/plain": [
       "[{'distance': 1.0, 'name': 'Fred', 'x': 5, 'y': 8},\n",
       " {'distance': 2.23606797749979, 'name': 'Steven', 'x': 3, 'y': 6},\n",
       " {'distance': 4.123105625617661, 'name': 'Natalie', 'x': 5, 'y': 4},\n",
       " {'distance': 4.242640687119285, 'name': 'Suzie', 'x': 1, 'y': 11},\n",
       " {'distance': 5.385164807134504, 'name': 'Edgar', 'x': 6, 'y': 13}]"
      ]
     },
     "execution_count": 20,
     "metadata": {},
     "output_type": "execute_result"
    }
   ],
   "source": [
    "nearest_neighbors(bob, neighbors)"
   ]
  },
  {
   "cell_type": "code",
   "execution_count": 21,
   "metadata": {},
   "outputs": [
    {
     "data": {
      "text/plain": [
       "[{'distance': 1.0, 'name': 'Fred', 'x': 5, 'y': 8},\n",
       " {'distance': 2.23606797749979, 'name': 'Steven', 'x': 3, 'y': 6}]"
      ]
     },
     "execution_count": 21,
     "metadata": {},
     "output_type": "execute_result"
    }
   ],
   "source": [
    "nearest_neighbors(bob, neighbors, 2)"
   ]
  },
  {
   "cell_type": "code",
   "execution_count": null,
   "metadata": {},
   "outputs": [],
   "source": []
  }
 ],
 "metadata": {
  "kernelspec": {
   "display_name": "Python 3",
   "language": "python",
   "name": "python3"
  },
  "language_info": {
   "codemirror_mode": {
    "name": "ipython",
    "version": 3
   },
   "file_extension": ".py",
   "mimetype": "text/x-python",
   "name": "python",
   "nbconvert_exporter": "python",
   "pygments_lexer": "ipython3",
   "version": "3.5.4"
  }
 },
 "nbformat": 4,
 "nbformat_minor": 2
}
