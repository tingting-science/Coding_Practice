{
 "cells": [
  {
   "cell_type": "markdown",
   "metadata": {},
   "source": [
    "### sort list\n",
    "- desruptive to original list: `l.sort(key=, reverse=)`\n",
    "- non-desruptive to original list: `new_l=sorted(l, key=, reverse= )`\n",
    "\n",
    "### sort list of dictionaries by values\n",
    "- `sorted(l, key=, reverse=)`\n",
    "\n",
    "```python\n",
    "# sort by name\n",
    "newlist = sorted(list_to_be_sorted,\n",
    "                 key=lambda k: k['name']\n",
    "                 reverse = True or False) # default False: ascending order\n",
    "# sort by age and name\n",
    "newlist = sorted(list_to_be_sorted,\n",
    "                 key=lambda k: (k['age'],k['name'])\n",
    "                 reverse = True or False)\n",
    "\n",
    "# alternative with operator.itemgetter\n",
    "from operator import itemgetter\n",
    "newlist = sorted(list_to_be_sorted, \n",
    "                 key=itemgetter('name'),\n",
    "                 reverse=True) # descending order\n",
    "\n",
    "```\n",
    "\n",
    "### sort dictionaries , ordered dict\n",
    "- use `sorted` for `list` after converting to (key, value) tuple list with `.items()`\n",
    "```python\n",
    "x = {1: 2, 3: 4, 4: 3, 2: 1, 0: 0}\n",
    "sorted_x = sorted(x.items(), key=lambda kv: kv[1]) # sort by 2nd element of each tuple\n",
    "```\n",
    "\n",
    "- output as ordered dict with `collections.OrderedDict()`\n",
    "```\n",
    "import collections\n",
    "sorted_dict = collections.OrderedDict(sorted_x)\n",
    "```"
   ]
  },
  {
   "cell_type": "code",
   "execution_count": 1,
   "metadata": {},
   "outputs": [
    {
     "data": {
      "text/plain": [
       "[1, 1, 2, 4]"
      ]
     },
     "execution_count": 1,
     "metadata": {},
     "output_type": "execute_result"
    }
   ],
   "source": [
    "l = [1,4,2,1]\n",
    "l.sort()\n",
    "l"
   ]
  },
  {
   "cell_type": "code",
   "execution_count": 3,
   "metadata": {},
   "outputs": [
    {
     "name": "stdout",
     "output_type": "stream",
     "text": [
      "[1, 1, 2, 4]\n",
      "[1, 4, 2, 1]\n"
     ]
    }
   ],
   "source": [
    "l = [1,4,2,1]\n",
    "print(sorted(l, reverse=False))\n",
    "print(l)"
   ]
  },
  {
   "cell_type": "markdown",
   "metadata": {},
   "source": [
    "\n",
    "```python \n",
    "# Example, sort by distance\n",
    "def nearest_neighbors(first_neighbor, neighbors, number = None):\n",
    "    d_all = distance_all(first_neighbor, neighbors)\n",
    "    d_sorted = sorted(d_all,\n",
    "                      key=lambda k:k['distance'])\n",
    "    return d_sorted[0:number]\n",
    "\n",
    "\n",
    "distance_all(fred, neighbors)\n",
    "\n",
    "# [{'avenue': 1, 'distance': 4.242640687119285, 'name': 'Suzie', 'street': 11},\n",
    "#  {'avenue': 5, 'distance': 1.0, 'name': 'Bob', 'street': 8},\n",
    "#  {'avenue': 6, 'distance': 5.385164807134504, 'name': 'Edgar', 'street': 13},\n",
    "#  {'avenue': 3, 'distance': 2.23606797749979, 'name': 'Steven', 'street': 6},\n",
    "#  {'avenue': 5, 'distance': 4.123105625617661, 'name': 'Natalie', 'street': 4}]\n",
    "\n",
    "nearest_neighbors(fred, neighbors, 2)\n",
    "# [{'avenue': 5, 'distance': 1.0, 'name': 'Bob', 'street': 8},\n",
    "#  {'avenue': 3, 'distance': 2.23606797749979, 'name': 'Steven', 'street': 6}]\n",
    "```"
   ]
  }
 ],
 "metadata": {
  "kernelspec": {
   "display_name": "Python 3",
   "language": "python",
   "name": "python3"
  },
  "language_info": {
   "codemirror_mode": {
    "name": "ipython",
    "version": 3
   },
   "file_extension": ".py",
   "mimetype": "text/x-python",
   "name": "python",
   "nbconvert_exporter": "python",
   "pygments_lexer": "ipython3",
   "version": "3.5.4"
  }
 },
 "nbformat": 4,
 "nbformat_minor": 2
}
