{
 "cells": [
  {
   "cell_type": "markdown",
   "metadata": {},
   "source": [
    "```python\n",
    "#list - grouping data in a collection\n",
    "\n",
    "#indexing, elements of list\n",
    "l[0] # 1st element\n",
    "l[-1] # last element\n",
    "l[-2] # the 2nd last element\n",
    "\n",
    "#slicing, slice of list\n",
    "l[0:2] # return (2-0) elements starting from elements with index 0 \n",
    "\n",
    "#Destructive Methods\n",
    "\n",
    "l.append() \n",
    "#append an element, every time run this line, an element will be added\n",
    "\n",
    "l.pop() #drop an element\n",
    "    \n",
    "l[2]=new_value #reassign value\n",
    "\n",
    "\n",
    "set(l) #set{} object, unique values (not support indexing)\n",
    "len(l) #num of elements\n",
    "```"
   ]
  },
  {
   "cell_type": "code",
   "execution_count": 1,
   "metadata": {},
   "outputs": [
    {
     "data": {
      "text/plain": [
       "<method 'pop' of 'list' objects>"
      ]
     },
     "execution_count": 1,
     "metadata": {},
     "output_type": "execute_result"
    }
   ],
   "source": [
    "list.pop\n",
    "#L.pop([index])\n",
    "#-> item -- remove and return item at index \n",
    "#(default last)."
   ]
  },
  {
   "cell_type": "code",
   "execution_count": null,
   "metadata": {},
   "outputs": [],
   "source": []
  }
 ],
 "metadata": {
  "kernelspec": {
   "display_name": "Python 3",
   "language": "python",
   "name": "python3"
  },
  "language_info": {
   "codemirror_mode": {
    "name": "ipython",
    "version": 3
   },
   "file_extension": ".py",
   "mimetype": "text/x-python",
   "name": "python",
   "nbconvert_exporter": "python",
   "pygments_lexer": "ipython3",
   "version": "3.5.4"
  }
 },
 "nbformat": 4,
 "nbformat_minor": 2
}
