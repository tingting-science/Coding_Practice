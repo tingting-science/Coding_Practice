{
 "cells": [
  {
   "cell_type": "markdown",
   "metadata": {},
   "source": [
    "Global variables vs local variables\n",
    "- global variable: declare a variable outside of a fuction, accessbile both ouside & inside a function.  \n",
    "\n",
    "Global variables are a privileged bunch.  Once declared, they can be referenced either inside or outside of a function."
   ]
  },
  {
   "cell_type": "markdown",
   "metadata": {},
   "source": [
    "return statements are an important feature of functions as they terminate the execution of a function and throw the result of the function into global scope."
   ]
  },
  {
   "cell_type": "markdown",
   "metadata": {},
   "source": [
    "- return: end of a function "
   ]
  },
  {
   "cell_type": "code",
   "execution_count": 2,
   "metadata": {},
   "outputs": [
    {
     "name": "stdout",
     "output_type": "stream",
     "text": [
      "this is executed\n"
     ]
    },
    {
     "data": {
      "text/plain": [
       "\"this is the function's output\""
      ]
     },
     "execution_count": 2,
     "metadata": {},
     "output_type": "execute_result"
    }
   ],
   "source": [
    "def return_statements():\n",
    "    print(\"this is executed\")\n",
    "    return \"this is the function's output\" # return: end of function\n",
    "    print(\"this is not executed\")\n",
    "return_statements()"
   ]
  },
  {
   "cell_type": "markdown",
   "metadata": {},
   "source": [
    "- function arguments \n",
    "    - can be perceived as local variables"
   ]
  },
  {
   "cell_type": "code",
   "execution_count": null,
   "metadata": {},
   "outputs": [],
   "source": []
  }
 ],
 "metadata": {
  "kernelspec": {
   "display_name": "Python 3",
   "language": "python",
   "name": "python3"
  },
  "language_info": {
   "codemirror_mode": {
    "name": "ipython",
    "version": 3
   },
   "file_extension": ".py",
   "mimetype": "text/x-python",
   "name": "python",
   "nbconvert_exporter": "python",
   "pygments_lexer": "ipython3",
   "version": "3.5.4"
  }
 },
 "nbformat": 4,
 "nbformat_minor": 2
}
