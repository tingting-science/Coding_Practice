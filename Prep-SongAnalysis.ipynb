{
 "cells": [
  {
   "cell_type": "markdown",
   "metadata": {},
   "source": [
    "## Song Analysis\n",
    "\n",
    "[Link](https://learn.co/tracks/data-science-bootcamp-prep/data-types/instant-data-science/instant-data-science)\n",
    "\n",
    "### CodeTask: \n",
    "figure out repetitiveness in a hit song *BarbaraAnn*, the most repetitive song of the Beach Boys. \n",
    "\n",
    "### Code Structure:\n",
    "'''\n",
    "#import libraries \n",
    "#import the lyrics \n",
    "#parse the lyrics\n",
    "    #str.split() -> words_list\n",
    "#count the words occurance \n",
    "    #approach 1: pandas.Series.value_counts()\n",
    "    #approach 2: dict + iteration \n",
    "        #a dict to store word counts:(key=unique_words, value=word_count)\n",
    "        #iterate through words_list\n",
    "            #for loop\n",
    "            #or L.count() #%timeit \n",
    "#plot the words occurance\n",
    "    #df.plot(kind='bar')\n",
    "    #or matplotlib from dict (d.keys(), d.values())\n",
    "'''   "
   ]
  },
  {
   "cell_type": "code",
   "execution_count": 19,
   "metadata": {},
   "outputs": [],
   "source": [
    "#raw_lyrics\n",
    "lyrics = \"Ah, Ba Ba Ba Ba Barbara Ann Ba Ba Ba Ba Barbara Ann Oh Barbara Ann Take My Hand Barbara Ann You Got Me Rockin' And A-Rollin' Rockin' And A-Reelin' Barbara Ann Ba Ba Ba Barbara Ann ...More Lyrics... Ba Ba Ba Ba Barbara Ann Ba Ba Ba Ba Barbara Ann\""
   ]
  },
  {
   "cell_type": "code",
   "execution_count": 20,
   "metadata": {},
   "outputs": [
    {
     "name": "stdout",
     "output_type": "stream",
     "text": [
      "51\n"
     ]
    }
   ],
   "source": [
    "#parse the lyrics\n",
    "lyrics = lyrics.replace(\",\",\"\") #remove punctuation mark\",\"\n",
    "words_in_lyrics = lyrics.split(' ') #parse on whitespace\n",
    "print(len(words_in_lyrics)) #check number of words"
   ]
  },
  {
   "cell_type": "code",
   "execution_count": 21,
   "metadata": {},
   "outputs": [],
   "source": [
    "#TO Improve:\n",
    "#identify and remove other punctuation marks"
   ]
  },
  {
   "cell_type": "markdown",
   "metadata": {},
   "source": [
    "#### Approach 1: Use Pandas.Series.value_counts()"
   ]
  },
  {
   "cell_type": "code",
   "execution_count": 22,
   "metadata": {},
   "outputs": [],
   "source": [
    "#import Pandas\n",
    "import pandas as pd\n",
    "#import matplotlib.pyplot as plt\n",
    "#% matplotlib inline"
   ]
  },
  {
   "cell_type": "code",
   "execution_count": 23,
   "metadata": {
    "scrolled": true
   },
   "outputs": [
    {
     "data": {
      "text/plain": [
       "Ba         19\n",
       "Barbara     8\n",
       "Ann         8\n",
       "And         2\n",
       "Rockin'     2\n",
       "My          1\n",
       "Got         1\n",
       "...More     1\n",
       "Take        1\n",
       "Hand        1\n",
       "dtype: int64"
      ]
     },
     "execution_count": 23,
     "metadata": {},
     "output_type": "execute_result"
    }
   ],
   "source": [
    "# use series.value_counts(), df has no attribute value_counts()\n",
    "word_counts = pd.Series(words_in_lyrics).value_counts()\n",
    "word_counts.head(10)"
   ]
  },
  {
   "cell_type": "code",
   "execution_count": 25,
   "metadata": {},
   "outputs": [
    {
     "data": {
      "text/plain": [
       "<matplotlib.axes._subplots.AxesSubplot at 0x118f72cf8>"
      ]
     },
     "execution_count": 25,
     "metadata": {},
     "output_type": "execute_result"
    },
    {
     "data": {
      "image/png": "[encoded data removed]",
      "text/plain": [
       "<matplotlib.figure.Figure at 0x118f632b0>"
      ]
     },
     "metadata": {},
     "output_type": "display_data"
    }
   ],
   "source": [
    "# plot \n",
    "word_counts.plot(kind='bar', figsize=(12,6))"
   ]
  },
  {
   "cell_type": "code",
   "execution_count": 41,
   "metadata": {},
   "outputs": [],
   "source": [
    "# TODO: rotate the xticks, set the yticks (see openAQ)"
   ]
  },
  {
   "cell_type": "markdown",
   "metadata": {},
   "source": [
    "#### Approach 2, use \"for loop  + dict{'word':counts}\""
   ]
  },
  {
   "cell_type": "code",
   "execution_count": 27,
   "metadata": {},
   "outputs": [
    {
     "data": {
      "text/plain": [
       "{'...More': 1,\n",
       " \"A-Reelin'\": 1,\n",
       " \"A-Rollin'\": 1,\n",
       " 'Ah': 1,\n",
       " 'And': 2,\n",
       " 'Ann': 8,\n",
       " 'Ba': 19,\n",
       " 'Barbara': 8,\n",
       " 'Got': 1,\n",
       " 'Hand': 1,\n",
       " 'Lyrics...': 1,\n",
       " 'Me': 1,\n",
       " 'My': 1,\n",
       " 'Oh': 1,\n",
       " \"Rockin'\": 2,\n",
       " 'Take': 1,\n",
       " 'You': 1}"
      ]
     },
     "execution_count": 27,
     "metadata": {},
     "output_type": "execute_result"
    }
   ],
   "source": [
    "# unique words in the words_in_lyrics\n",
    "unique_words = set(words_in_lyrics)\n",
    "# creat dict with unique_words \n",
    "word_counts_dict = dict.fromkeys(unique_words,0)\n",
    "# iterate through words_in_lyrics, update words counts in dict\n",
    "for word in words_in_lyrics:\n",
    "    word_counts_dict[word]+=1\n",
    "word_counts_dict    "
   ]
  },
  {
   "cell_type": "code",
   "execution_count": 40,
   "metadata": {},
   "outputs": [
    {
     "data": {
      "image/png": "[encoded data removed]",
      "text/plain": [
       "<matplotlib.figure.Figure at 0x11995ef98>"
      ]
     },
     "metadata": {},
     "output_type": "display_data"
    }
   ],
   "source": [
    "# Plot\n",
    "fig,ax=plt.subplots(figsize=(16,6))\n",
    "x = list(word_counts_dict.keys())\n",
    "y = list(word_counts_dict.values())\n",
    "ax.bar(x,y)\n",
    "plt.show()"
   ]
  },
  {
   "cell_type": "code",
   "execution_count": 28,
   "metadata": {},
   "outputs": [],
   "source": [
    "# may also use \n",
    "# L.count() \n",
    "# + iteration unique_words \n",
    "# + d.update() or d[new_key]=new_value"
   ]
  },
  {
   "cell_type": "markdown",
   "metadata": {},
   "source": [
    "#### Approach 3: PySpark\n",
    "- see word_count.py"
   ]
  },
  {
   "cell_type": "code",
   "execution_count": 29,
   "metadata": {},
   "outputs": [],
   "source": [
    "# import pyspark\n",
    "# creat spark configuration, spark context\n",
    "# creat input_rdd from sc\n",
    "# words_rdd = input_rdd.flatmap(lambda x:x.split(' ')) ##use flatmap since whole file is 1 line\n",
    "# word_counts = words_rdd.countByValue() #action, key_value rdd:{key=word, value=count}\n",
    "# clean word (encode 'ascii', decode) one by one using tuple unpacking \n",
    "# save it to .py file"
   ]
  }
 ],
 "metadata": {
  "kernelspec": {
   "display_name": "Python 3",
   "language": "python",
   "name": "python3"
  },
  "language_info": {
   "codemirror_mode": {
    "name": "ipython",
    "version": 3
   },
   "file_extension": ".py",
   "mimetype": "text/x-python",
   "name": "python",
   "nbconvert_exporter": "python",
   "pygments_lexer": "ipython3",
   "version": "3.5.4"
  }
 },
 "nbformat": 4,
 "nbformat_minor": 2
}
