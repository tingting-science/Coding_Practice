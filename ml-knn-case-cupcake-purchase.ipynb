{
 "cells": [
  {
   "cell_type": "markdown",
   "metadata": {},
   "source": [
    "### Case Study\n",
    "\n",
    "- **cupcake purchases** based on **proximity of customers** (customer location, or other customers in the similar region) \n",
    "- Case Senario: Assume that a new customer just purchased his first cupcake, and we want to develop some expectation for how many cupcakes he may purchase from us in the following year. "
   ]
  },
  {
   "cell_type": "markdown",
   "metadata": {},
   "source": [
    "### Code Structure \n",
    "same logic as `ml-knn-distance`\n",
    "\n",
    "1. Write a function to calculate the distance of one neighbor from another\n",
    "2. Write a function that returns the distance between one neighbor and all others (using `map`)\n",
    "3. Return a selected number of nearest neighbors"
   ]
  },
  {
   "cell_type": "code",
   "execution_count": 5,
   "metadata": {},
   "outputs": [],
   "source": [
    "import math\n",
    "\n",
    "def distance(selected_individual, neighbor):\n",
    "   distance_squared = (neighbor['x'] - selected_individual['x'])**2 + (neighbor['y'] - selected_individual['y'])**2\n",
    "   return math.sqrt(distance_squared)\n",
    "\n",
    "def distance_between_neighbors(selected_individual, neighbor):\n",
    "    neighbor_with_distance = neighbor.copy()\n",
    "    neighbor_with_distance['distance'] = distance(selected_individual, neighbor)\n",
    "    return neighbor_with_distance\n",
    "\n",
    "def distance_all(selected_individual, neighbors):\n",
    "    remaining_neighbors = filter(lambda neighbor: neighbor != selected_individual, neighbors)\n",
    "    return list(map(lambda neighbor: distance_between_neighbors(selected_individual, neighbor), remaining_neighbors))"
   ]
  },
  {
   "cell_type": "code",
   "execution_count": 6,
   "metadata": {},
   "outputs": [],
   "source": [
    "neighbors = [{'name': 'Bob', 'x': 4, 'y': 8, 'purchases': 52}, {'name': 'Suzie', 'x': 1, 'y': 11, 'purchases': 70}, \n",
    "             {'name': 'Fred', 'x': 5, 'y': 8, 'purchases': 60}, {'name': 'Edgar', 'x': 6, 'y': 13, 'purchases': 20},\n",
    "             {'name': 'Steven', 'x': 3, 'y': 6, 'purchases': 32}, {'name': 'Natalie', 'x': 5, 'y': 4, 'purchases': 45}]\n",
    "bob = neighbors[0]\n",
    "suzie = neighbors[1]"
   ]
  },
  {
   "cell_type": "code",
   "execution_count": 7,
   "metadata": {},
   "outputs": [
    {
     "data": {
      "text/html": [
       "<script>requirejs.config({paths: { 'plotly': ['https://cdn.plot.ly/plotly-latest.min']},});if(!window.Plotly) {{require(['plotly'],function(plotly) {window.Plotly=plotly;});}}</script>"
      ],
      "text/vnd.plotly.v1+html": [
       "<script>requirejs.config({paths: { 'plotly': ['https://cdn.plot.ly/plotly-latest.min']},});if(!window.Plotly) {{require(['plotly'],function(plotly) {window.Plotly=plotly;});}}</script>"
      ]
     },
     "metadata": {},
     "output_type": "display_data"
    },
    {
     "data": {
      "application/vnd.plotly.v1+json": {
       "data": [
        {
         "mode": "markers",
         "text": [
          "Bob: 52",
          "Suzie: 70",
          "Fred: 60",
          "Edgar: 20",
          "Steven: 32",
          "Natalie: 45"
         ],
         "type": "scatter",
         "uid": "95fcfffa-735f-11e9-81ca-186590dfe88f",
         "x": [
          4,
          1,
          5,
          6,
          3,
          5
         ],
         "y": [
          8,
          11,
          8,
          13,
          6,
          4
         ]
        }
       ],
       "layout": {
        "xaxis": {
         "dtick": 1
        },
        "yaxis": {
         "dtick": 1
        }
       }
      },
      "text/html": [
       "<div id=\"eaf36b03-081c-48dd-b51a-a77f9fd3a6ed\" style=\"height: 525px; width: 100%;\" class=\"plotly-graph-div\"></div><script type=\"text/javascript\">require([\"plotly\"], function(Plotly) { window.PLOTLYENV=window.PLOTLYENV || {};window.PLOTLYENV.BASE_URL=\"https://plot.ly\";Plotly.newPlot(\"eaf36b03-081c-48dd-b51a-a77f9fd3a6ed\", [{\"mode\": \"markers\", \"uid\": \"9603872e-735f-11e9-b33c-186590dfe88f\", \"type\": \"scatter\", \"text\": [\"Bob: 52\", \"Suzie: 70\", \"Fred: 60\", \"Edgar: 20\", \"Steven: 32\", \"Natalie: 45\"], \"x\": [4, 1, 5, 6, 3, 5], \"y\": [8, 11, 8, 13, 6, 4]}], {\"yaxis\": {\"dtick\": 1}, \"xaxis\": {\"dtick\": 1}}, {\"linkText\": \"Export to plot.ly\", \"showLink\": true})});</script>"
      ],
      "text/vnd.plotly.v1+html": [
       "<div id=\"eaf36b03-081c-48dd-b51a-a77f9fd3a6ed\" style=\"height: 525px; width: 100%;\" class=\"plotly-graph-div\"></div><script type=\"text/javascript\">require([\"plotly\"], function(Plotly) { window.PLOTLYENV=window.PLOTLYENV || {};window.PLOTLYENV.BASE_URL=\"https://plot.ly\";Plotly.newPlot(\"eaf36b03-081c-48dd-b51a-a77f9fd3a6ed\", [{\"mode\": \"markers\", \"uid\": \"9603872e-735f-11e9-b33c-186590dfe88f\", \"type\": \"scatter\", \"text\": [\"Bob: 52\", \"Suzie: 70\", \"Fred: 60\", \"Edgar: 20\", \"Steven: 32\", \"Natalie: 45\"], \"x\": [4, 1, 5, 6, 3, 5], \"y\": [8, 11, 8, 13, 6, 4]}], {\"yaxis\": {\"dtick\": 1}, \"xaxis\": {\"dtick\": 1}}, {\"linkText\": \"Export to plot.ly\", \"showLink\": true})});</script>"
      ]
     },
     "metadata": {},
     "output_type": "display_data"
    }
   ],
   "source": [
    "import plotly\n",
    "\n",
    "plotly.offline.init_notebook_mode(connected=True)\n",
    "trace0 = dict(x=list(map(lambda neighbor: neighbor['x'],neighbors)), \n",
    "              y=list(map(lambda neighbor: neighbor['y'],neighbors)),\n",
    "              text=list(map(lambda neighbor: neighbor['name'] + ': ' + str(neighbor['purchases']),neighbors)),\n",
    "              mode='markers')\n",
    "plotly.offline.iplot(dict(data=[trace0], layout={'xaxis': {'dtick': 1}, 'yaxis': {'dtick': 1}}))"
   ]
  },
  {
   "cell_type": "code",
   "execution_count": 9,
   "metadata": {},
   "outputs": [],
   "source": [
    "def nearest_neighbors(selected_individual, neighbors, number = None):\n",
    "    number = number or len(neighbors)\n",
    "    neighbor_distances = distance_all(selected_individual, neighbors)\n",
    "    sorted_neighbors = sorted(neighbor_distances, key=lambda neighbor: neighbor['distance'])\n",
    "    return sorted_neighbors[:number]"
   ]
  },
  {
   "cell_type": "code",
   "execution_count": 10,
   "metadata": {},
   "outputs": [
    {
     "data": {
      "text/plain": [
       "[{'distance': 1.0, 'name': 'Fred', 'purchases': 60, 'x': 5, 'y': 8}]"
      ]
     },
     "execution_count": 10,
     "metadata": {},
     "output_type": "execute_result"
    }
   ],
   "source": [
    "bob = neighbors[0]\n",
    "nearest_neighbor_to_bob = nearest_neighbors(bob, neighbors, 1)\n",
    "nearest_neighbor_to_bob"
   ]
  },
  {
   "cell_type": "code",
   "execution_count": 11,
   "metadata": {},
   "outputs": [
    {
     "data": {
      "text/plain": [
       "[{'distance': 1.4142135623730951,\n",
       "  'name': 'Natalie',\n",
       "  'purchases': 45,\n",
       "  'x': 5,\n",
       "  'y': 4},\n",
       " {'distance': 3.1622776601683795,\n",
       "  'name': 'Steven',\n",
       "  'purchases': 32,\n",
       "  'x': 3,\n",
       "  'y': 6},\n",
       " {'distance': 5.0, 'name': 'Bob', 'purchases': 52, 'x': 4, 'y': 8}]"
      ]
     },
     "execution_count": 11,
     "metadata": {},
     "output_type": "execute_result"
    }
   ],
   "source": [
    "# new customer with location {'x': 4, 'y': 3}\n",
    "nearest_three_neighbors = nearest_neighbors({'x': 4, 'y': 3}, neighbors, 3)\n",
    "nearest_three_neighbors"
   ]
  },
  {
   "cell_type": "code",
   "execution_count": 12,
   "metadata": {},
   "outputs": [
    {
     "data": {
      "text/plain": [
       "43.0"
      ]
     },
     "execution_count": 12,
     "metadata": {},
     "output_type": "execute_result"
    }
   ],
   "source": [
    "# predict new customer future purchases based on 3 nn\n",
    "purchases = list(map(lambda neighbor: neighbor['purchases'],nearest_three_neighbors))\n",
    "average = sum(purchases)/len(purchases)\n",
    "average # 43.0"
   ]
  },
  {
   "cell_type": "code",
   "execution_count": null,
   "metadata": {},
   "outputs": [],
   "source": []
  }
 ],
 "metadata": {
  "kernelspec": {
   "display_name": "Python 3",
   "language": "python",
   "name": "python3"
  },
  "language_info": {
   "codemirror_mode": {
    "name": "ipython",
    "version": 3
   },
   "file_extension": ".py",
   "mimetype": "text/x-python",
   "name": "python",
   "nbconvert_exporter": "python",
   "pygments_lexer": "ipython3",
   "version": "3.5.4"
  }
 },
 "nbformat": 4,
 "nbformat_minor": 2
}
