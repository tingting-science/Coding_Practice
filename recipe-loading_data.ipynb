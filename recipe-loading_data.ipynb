{
 "cells": [
  {
   "cell_type": "markdown",
   "metadata": {},
   "source": [
    "## Json(Javascript Object Notation)\n",
    "\n",
    "### Loading Json file (from Github) \n",
    "- with Python as Jason file \n",
    "- with Pandas\n",
    "   \n",
    "\n",
    "### Json file Intro:\n",
    "- format `{key, value}`, or `[{key, value},{key, value}...]`\n",
    "- More Basic Intro: [Json](https://www.copterlabs.com/json-what-it-is-how-it-works-how-to-use-it/)"
   ]
  },
  {
   "cell_type": "markdown",
   "metadata": {},
   "source": [
    "### Load Jason: Pandas + Git hub link\n",
    "- git hub link: click raw of the file on github, copy the link\n",
    "- [Load Json into Pandas]( (https://chrisalbon.com/python/data_wrangling/load_json_file_into_pandas/)\n",
    "    - `pd.read_json(url, orient='columns')`"
   ]
  },
  {
   "cell_type": "code",
   "execution_count": 2,
   "metadata": {},
   "outputs": [],
   "source": [
    "import pandas as pd"
   ]
  },
  {
   "cell_type": "code",
   "execution_count": 12,
   "metadata": {},
   "outputs": [],
   "source": [
    "# File url (click raw of the file on github, copy the link) or local file path\n",
    "url = 'https://raw.githubusercontent.com/learn-co-curriculum/nearest-neighbors-lab/master/trips.json'"
   ]
  },
  {
   "cell_type": "code",
   "execution_count": 8,
   "metadata": {},
   "outputs": [],
   "source": [
    "# Load the first sheet of the JSON file into a data frame\n",
    "df = pd.read_json(url, orient='columns')"
   ]
  },
  {
   "cell_type": "code",
   "execution_count": 11,
   "metadata": {},
   "outputs": [
    {
     "data": {
      "text/html": [
       "<div>\n",
       "<style scoped>\n",
       "    .dataframe tbody tr th:only-of-type {\n",
       "        vertical-align: middle;\n",
       "    }\n",
       "\n",
       "    .dataframe tbody tr th {\n",
       "        vertical-align: top;\n",
       "    }\n",
       "\n",
       "    .dataframe thead th {\n",
       "        text-align: right;\n",
       "    }\n",
       "</style>\n",
       "<table border=\"1\" class=\"dataframe\">\n",
       "  <thead>\n",
       "    <tr style=\"text-align: right;\">\n",
       "      <th></th>\n",
       "      <th>dropoff_datetime</th>\n",
       "      <th>dropoff_latitude</th>\n",
       "      <th>dropoff_longitude</th>\n",
       "      <th>fare_amount</th>\n",
       "      <th>imp_surcharge</th>\n",
       "      <th>mta_tax</th>\n",
       "      <th>passenger_count</th>\n",
       "      <th>payment_type</th>\n",
       "      <th>pickup_datetime</th>\n",
       "      <th>pickup_latitude</th>\n",
       "      <th>pickup_longitude</th>\n",
       "      <th>rate_code</th>\n",
       "      <th>store_and_fwd_flag</th>\n",
       "      <th>tip_amount</th>\n",
       "      <th>tolls_amount</th>\n",
       "      <th>total_amount</th>\n",
       "      <th>trip_distance</th>\n",
       "      <th>vendor_id</th>\n",
       "    </tr>\n",
       "  </thead>\n",
       "  <tbody>\n",
       "    <tr>\n",
       "      <th>0</th>\n",
       "      <td>2014-11-26T22:31:00.000</td>\n",
       "      <td>40.746770</td>\n",
       "      <td>-73.997450</td>\n",
       "      <td>52.0</td>\n",
       "      <td>0.0</td>\n",
       "      <td>0.5</td>\n",
       "      <td>1</td>\n",
       "      <td>CSH</td>\n",
       "      <td>2014-11-26T21:59:00.000</td>\n",
       "      <td>40.644990</td>\n",
       "      <td>-73.781150</td>\n",
       "      <td>2</td>\n",
       "      <td>NaN</td>\n",
       "      <td>0.0</td>\n",
       "      <td>5.33</td>\n",
       "      <td>57.83</td>\n",
       "      <td>18.38</td>\n",
       "      <td>VTS</td>\n",
       "    </tr>\n",
       "    <tr>\n",
       "      <th>1</th>\n",
       "      <td>2014-02-22T17:54:37.000</td>\n",
       "      <td>40.781845</td>\n",
       "      <td>-73.979073</td>\n",
       "      <td>7.5</td>\n",
       "      <td>0.0</td>\n",
       "      <td>0.5</td>\n",
       "      <td>1</td>\n",
       "      <td>CSH</td>\n",
       "      <td>2014-02-22T17:47:23.000</td>\n",
       "      <td>40.766931</td>\n",
       "      <td>-73.982098</td>\n",
       "      <td>1</td>\n",
       "      <td>N</td>\n",
       "      <td>0.0</td>\n",
       "      <td>0.00</td>\n",
       "      <td>8.00</td>\n",
       "      <td>1.30</td>\n",
       "      <td>CMT</td>\n",
       "    </tr>\n",
       "    <tr>\n",
       "      <th>2</th>\n",
       "      <td>2014-04-06T04:07:34.000</td>\n",
       "      <td>40.726610</td>\n",
       "      <td>-73.995955</td>\n",
       "      <td>15.5</td>\n",
       "      <td>0.5</td>\n",
       "      <td>0.5</td>\n",
       "      <td>1</td>\n",
       "      <td>CRD</td>\n",
       "      <td>2014-04-06T03:51:59.000</td>\n",
       "      <td>40.777730</td>\n",
       "      <td>-73.951902</td>\n",
       "      <td>1</td>\n",
       "      <td>N</td>\n",
       "      <td>3.3</td>\n",
       "      <td>0.00</td>\n",
       "      <td>19.80</td>\n",
       "      <td>4.50</td>\n",
       "      <td>CMT</td>\n",
       "    </tr>\n",
       "  </tbody>\n",
       "</table>\n",
       "</div>"
      ],
      "text/plain": [
       "          dropoff_datetime  dropoff_latitude  dropoff_longitude  fare_amount  \\\n",
       "0  2014-11-26T22:31:00.000         40.746770         -73.997450         52.0   \n",
       "1  2014-02-22T17:54:37.000         40.781845         -73.979073          7.5   \n",
       "2  2014-04-06T04:07:34.000         40.726610         -73.995955         15.5   \n",
       "\n",
       "   imp_surcharge  mta_tax  passenger_count payment_type  \\\n",
       "0            0.0      0.5                1          CSH   \n",
       "1            0.0      0.5                1          CSH   \n",
       "2            0.5      0.5                1          CRD   \n",
       "\n",
       "           pickup_datetime  pickup_latitude  pickup_longitude  rate_code  \\\n",
       "0  2014-11-26T21:59:00.000        40.644990        -73.781150          2   \n",
       "1  2014-02-22T17:47:23.000        40.766931        -73.982098          1   \n",
       "2  2014-04-06T03:51:59.000        40.777730        -73.951902          1   \n",
       "\n",
       "  store_and_fwd_flag  tip_amount  tolls_amount  total_amount  trip_distance  \\\n",
       "0                NaN         0.0          5.33         57.83          18.38   \n",
       "1                  N         0.0          0.00          8.00           1.30   \n",
       "2                  N         3.3          0.00         19.80           4.50   \n",
       "\n",
       "  vendor_id  \n",
       "0       VTS  \n",
       "1       CMT  \n",
       "2       CMT  "
      ]
     },
     "execution_count": 11,
     "metadata": {},
     "output_type": "execute_result"
    }
   ],
   "source": [
    "df.head(3)"
   ]
  },
  {
   "cell_type": "markdown",
   "metadata": {},
   "source": [
    "### Load Json: Local + Python \n",
    "\n",
    "- [Download Json file from Github](https://www.google.com/search?q=how+to+download+a+file+from+github&rlz=1C5CHFA_enUS773US773&oq=how+to+download+a+file&aqs=chrome.1.69i57j0l5.8141j0j7&sourceid=chrome&ie=UTF-8#kpvalbx=1)\n",
    "    - raw + save as\n",
    "    - (alternative) Github gist\n",
    "    \n",
    "- load with `json library`,`open`,`json.load`    "
   ]
  },
  {
   "cell_type": "code",
   "execution_count": 21,
   "metadata": {},
   "outputs": [],
   "source": [
    "import json\n",
    "# First, read the local file\n",
    "trips_file = open('data_trips.json') #open(url)\n",
    "# Then, convert contents to list of dictionaries \n",
    "trips = json.load(trips_file)"
   ]
  },
  {
   "cell_type": "code",
   "execution_count": 23,
   "metadata": {},
   "outputs": [
    {
     "ename": "FileNotFoundError",
     "evalue": "[Errno 2] No such file or directory: 'https://raw.githubusercontent.com/learn-co-curriculum/nearest-neighbors-lab/master/trips.json'",
     "output_type": "error",
     "traceback": [
      "\u001b[0;31m---------------------------------------------------------------------------\u001b[0m",
      "\u001b[0;31mFileNotFoundError\u001b[0m                         Traceback (most recent call last)",
      "\u001b[0;32m<ipython-input-23-3cdb030f18c9>\u001b[0m in \u001b[0;36m<module>\u001b[0;34m()\u001b[0m\n\u001b[0;32m----> 1\u001b[0;31m \u001b[0mtrips_file2\u001b[0m \u001b[0;34m=\u001b[0m \u001b[0mopen\u001b[0m\u001b[0;34m(\u001b[0m\u001b[0murl\u001b[0m\u001b[0;34m)\u001b[0m \u001b[0;31m#does not work\u001b[0m\u001b[0;34m\u001b[0m\u001b[0m\n\u001b[0m",
      "\u001b[0;31mFileNotFoundError\u001b[0m: [Errno 2] No such file or directory: 'https://raw.githubusercontent.com/learn-co-curriculum/nearest-neighbors-lab/master/trips.json'"
     ]
    }
   ],
   "source": [
    "trips_file2 = open(url) #does not work "
   ]
  },
  {
   "cell_type": "code",
   "execution_count": 15,
   "metadata": {},
   "outputs": [
    {
     "data": {
      "text/plain": [
       "1000"
      ]
     },
     "execution_count": 15,
     "metadata": {},
     "output_type": "execute_result"
    }
   ],
   "source": [
    "len(trips)"
   ]
  },
  {
   "cell_type": "code",
   "execution_count": 18,
   "metadata": {},
   "outputs": [
    {
     "data": {
      "text/plain": [
       "[{'dropoff_datetime': '2014-11-26T22:31:00.000',\n",
       "  'dropoff_latitude': '40.746769999999998',\n",
       "  'dropoff_longitude': '-73.997450000000001',\n",
       "  'fare_amount': '52',\n",
       "  'imp_surcharge': '0',\n",
       "  'mta_tax': '0.5',\n",
       "  'passenger_count': '1',\n",
       "  'payment_type': 'CSH',\n",
       "  'pickup_datetime': '2014-11-26T21:59:00.000',\n",
       "  'pickup_latitude': '40.64499',\n",
       "  'pickup_longitude': '-73.781149999999997',\n",
       "  'rate_code': '2',\n",
       "  'tip_amount': '0',\n",
       "  'tolls_amount': '5.3300000000000001',\n",
       "  'total_amount': '57.829999999999998',\n",
       "  'trip_distance': '18.379999999999999',\n",
       "  'vendor_id': 'VTS'},\n",
       " {'dropoff_datetime': '2014-02-22T17:54:37.000',\n",
       "  'dropoff_latitude': '40.781844999999997',\n",
       "  'dropoff_longitude': '-73.979073',\n",
       "  'fare_amount': '7.5',\n",
       "  'imp_surcharge': '0',\n",
       "  'mta_tax': '0.5',\n",
       "  'passenger_count': '1',\n",
       "  'payment_type': 'CSH',\n",
       "  'pickup_datetime': '2014-02-22T17:47:23.000',\n",
       "  'pickup_latitude': '40.766931',\n",
       "  'pickup_longitude': '-73.982097999999993',\n",
       "  'rate_code': '1',\n",
       "  'store_and_fwd_flag': 'N',\n",
       "  'tip_amount': '0',\n",
       "  'tolls_amount': '0',\n",
       "  'total_amount': '8',\n",
       "  'trip_distance': '1.3',\n",
       "  'vendor_id': 'CMT'}]"
      ]
     },
     "execution_count": 18,
     "metadata": {},
     "output_type": "execute_result"
    }
   ],
   "source": [
    "trips[0:2]"
   ]
  },
  {
   "cell_type": "code",
   "execution_count": null,
   "metadata": {},
   "outputs": [],
   "source": []
  }
 ],
 "metadata": {
  "kernelspec": {
   "display_name": "Python 3",
   "language": "python",
   "name": "python3"
  },
  "language_info": {
   "codemirror_mode": {
    "name": "ipython",
    "version": 3
   },
   "file_extension": ".py",
   "mimetype": "text/x-python",
   "name": "python",
   "nbconvert_exporter": "python",
   "pygments_lexer": "ipython3",
   "version": "3.5.4"
  }
 },
 "nbformat": 4,
 "nbformat_minor": 2
}
